{
 "cells": [
  {
   "cell_type": "markdown",
   "metadata": {},
   "source": [
    "# Groth16 Algorithm Implementation\n",
    "\n",
    "### System Setup"
   ]
  },
  {
   "cell_type": "code",
   "execution_count": 1,
   "metadata": {},
   "outputs": [
    {
     "name": "stdout",
     "output_type": "stream",
     "text": [
      "Requirement already satisfied: py_ecc in /Users/theo/.local/pipx/venvs/notebook/lib/python3.11/site-packages (7.0.1)\n",
      "Requirement already satisfied: eth-typing>=3.0.0 in /Users/theo/.local/pipx/venvs/notebook/lib/python3.11/site-packages (from py_ecc) (5.1.0)\n",
      "Requirement already satisfied: eth-utils>=2.0.0 in /Users/theo/.local/pipx/venvs/notebook/lib/python3.11/site-packages (from py_ecc) (5.2.0)\n",
      "Requirement already satisfied: cached-property>=1.5.1 in /Users/theo/.local/pipx/venvs/notebook/lib/python3.11/site-packages (from py_ecc) (2.0.1)\n",
      "Requirement already satisfied: typing_extensions>=4.5.0 in /Users/theo/.local/pipx/venvs/notebook/lib/python3.11/site-packages (from eth-typing>=3.0.0->py_ecc) (4.12.2)\n",
      "Requirement already satisfied: eth-hash>=0.3.1 in /Users/theo/.local/pipx/venvs/notebook/lib/python3.11/site-packages (from eth-utils>=2.0.0->py_ecc) (0.7.1)\n",
      "Requirement already satisfied: cytoolz>=0.10.1 in /Users/theo/.local/pipx/venvs/notebook/lib/python3.11/site-packages (from eth-utils>=2.0.0->py_ecc) (1.0.1)\n",
      "Requirement already satisfied: toolz>=0.8.0 in /Users/theo/.local/pipx/venvs/notebook/lib/python3.11/site-packages (from cytoolz>=0.10.1->eth-utils>=2.0.0->py_ecc) (1.0.0)\n",
      "\n",
      "\u001b[1m[\u001b[0m\u001b[34;49mnotice\u001b[0m\u001b[1;39;49m]\u001b[0m\u001b[39;49m A new release of pip is available: \u001b[0m\u001b[31;49m24.3.1\u001b[0m\u001b[39;49m -> \u001b[0m\u001b[32;49m25.0.1\u001b[0m\n",
      "\u001b[1m[\u001b[0m\u001b[34;49mnotice\u001b[0m\u001b[1;39;49m]\u001b[0m\u001b[39;49m To update, run: \u001b[0m\u001b[32;49mpython -m pip install --upgrade pip\u001b[0m\n",
      "Note: you may need to restart the kernel to use updated packages.\n"
     ]
    }
   ],
   "source": [
    "pip install py_ecc"
   ]
  },
  {
   "cell_type": "code",
   "execution_count": 2,
   "metadata": {},
   "outputs": [
    {
     "name": "stdout",
     "output_type": "stream",
     "text": [
      "Requirement already satisfied: numpy==1.26.0 in /Users/theo/.local/pipx/venvs/notebook/lib/python3.11/site-packages (1.26.0)\n",
      "\n",
      "\u001b[1m[\u001b[0m\u001b[34;49mnotice\u001b[0m\u001b[1;39;49m]\u001b[0m\u001b[39;49m A new release of pip is available: \u001b[0m\u001b[31;49m24.3.1\u001b[0m\u001b[39;49m -> \u001b[0m\u001b[32;49m25.0.1\u001b[0m\n",
      "\u001b[1m[\u001b[0m\u001b[34;49mnotice\u001b[0m\u001b[1;39;49m]\u001b[0m\u001b[39;49m To update, run: \u001b[0m\u001b[32;49mpython -m pip install --upgrade pip\u001b[0m\n",
      "Note: you may need to restart the kernel to use updated packages.\n"
     ]
    }
   ],
   "source": [
    "pip install numpy=='1.26.0'"
   ]
  },
  {
   "cell_type": "code",
   "execution_count": 3,
   "metadata": {},
   "outputs": [
    {
     "name": "stdout",
     "output_type": "stream",
     "text": [
      "Python Version: 3.11.11 (main, Dec  3 2024, 17:20:40) [Clang 16.0.0 (clang-1600.0.26.4)]\n",
      "Version Number: 3.11.11\n"
     ]
    }
   ],
   "source": [
    "import sys\n",
    "\n",
    "print(f\"Python Version: {sys.version}\")\n",
    "# For just the version number without additional info:\n",
    "print(f\"Version Number: {sys.version_info.major}.{sys.version_info.minor}.{sys.version_info.micro}\")\n",
    "\n",
    "import numpy as np"
   ]
  },
  {
   "cell_type": "code",
   "execution_count": 4,
   "metadata": {},
   "outputs": [
    {
     "data": {
      "text/plain": [
       "True"
      ]
     },
     "execution_count": 4,
     "metadata": {},
     "output_type": "execute_result"
    }
   ],
   "source": [
    "np.version.version == '1.26.0'"
   ]
  },
  {
   "cell_type": "markdown",
   "metadata": {},
   "source": [
    "### R1CS to QAP:"
   ]
  },
  {
   "cell_type": "code",
   "execution_count": 5,
   "metadata": {},
   "outputs": [],
   "source": [
    "# 1, out, x, y, v1, v2, v3\n",
    "L = np.array([\n",
    "    [0, 0, 1, 0, 0, 0, 0],\n",
    "    [0, 0, 0, 0, 1, 0, 0],\n",
    "    [0, 0, 0, -5, 0, 0, 0],\n",
    "    [0, 0, 0, 0, 0, 0, 1],\n",
    "])\n",
    "\n",
    "R = np.array([\n",
    "    [0, 0, 1, 0, 0, 0, 0],\n",
    "    [0, 0, 0, 0, 1, 0, 0],\n",
    "    [0, 0, 0, 1, 0, 0, 0],\n",
    "    [0, 0, 0, 0, 1, 0, 0],\n",
    "])\n",
    "\n",
    "O = np.array([\n",
    "    [0, 0, 0, 0, 1, 0, 0],\n",
    "    [0, 0, 0, 0, 0, 1, 0],\n",
    "    [0, 0, 0, 0, 0, 0, 1],\n",
    "    [0, 1, 0, 0, 0, -1, 0],\n",
    "])\n",
    "\n",
    "x = 4\n",
    "y = -2\n",
    "v1 = x * x\n",
    "v2 = v1 * v1        # x^4\n",
    "v3 = -5*y * y\n",
    "z = v3*v1 + v2    # -5y^2 * x^2\n",
    "\n",
    "# witness\n",
    "a = np.array([1, z, x, y, v1, v2, v3])\n",
    "\n",
    "assert all(np.equal(np.matmul(L, a) * np.matmul(R, a), np.matmul(O, a))), \"not equal\"\n",
    "\n",
    "from py_ecc.bn128 import curve_order\n",
    "\n",
    "import galois\n",
    "\n",
    "GF = galois.GF(curve_order, primitive_element=5, verify=False)\n",
    "\n",
    "L = (L + curve_order) % curve_order\n",
    "R = (R + curve_order) % curve_order\n",
    "O = (O + curve_order) % curve_order\n",
    "\n",
    "L_galois = GF(L)\n",
    "R_galois = GF(R)\n",
    "O_galois = GF(O)\n",
    "\n",
    "x = GF(4)\n",
    "y = GF(-2 + curve_order) # we are using 79 as the field size, so 79 - 2 is -2\n",
    "v1 = x * x\n",
    "v2 = v1 * v1         # x^4\n",
    "v3 = GF(-5 + curve_order)*y * y\n",
    "out = v3*v1 + v2    # -5y^2 * x^2\n",
    "\n",
    "witness = GF(np.array([1, out, x, y, v1, v2, v3]))\n",
    "\n",
    "LHS = np.matmul(L_galois, witness) * np.matmul(R_galois, witness)\n",
    "RHS = np.matmul(O_galois, witness)\n",
    "assert all(np.equal(LHS, RHS)), \"not equal\"\n",
    "\n",
    "def interpolate_column(col):\n",
    "    xs = GF(np.array([1,2,3,4]))\n",
    "    return galois.lagrange_poly(xs, col)\n",
    "\n",
    "# axis 0 is the columns.\n",
    "# apply_along_axis is the same as doing a for loop over the columns and collecting the results in an array\n",
    "U_polys = np.apply_along_axis(interpolate_column, 0, L_galois)\n",
    "V_polys = np.apply_along_axis(interpolate_column, 0, R_galois)\n",
    "W_polys = np.apply_along_axis(interpolate_column, 0, O_galois)\n",
    "from functools import reduce\n",
    "\n",
    "def inner_product_polynomials_with_witness(polys, witness):\n",
    "    mul_ = lambda x, y: x * y\n",
    "    sum_ = lambda x, y: x + y\n",
    "    return reduce(sum_, map(mul_, polys, witness))\n",
    "\n",
    "term_1 = inner_product_polynomials_with_witness(U_polys, witness)\n",
    "term_2 = inner_product_polynomials_with_witness(V_polys, witness)\n",
    "term_3 = inner_product_polynomials_with_witness(W_polys, witness)\n",
    "\n",
    "# t = (x - 1)(x - 2)(x - 3)(x - 4)\n",
    "t = galois.Poly([1, curve_order - 1], field = GF) * galois.Poly([1, curve_order - 2], field = GF) * galois.Poly([1, curve_order - 3], field = GF) * galois.Poly([1, curve_order - 4], field = GF)\n",
    "h = (term_1 * term_2 - term_3) // t\n",
    "\n",
    "# print(\"Term 1: \", term_1)\n",
    "# print(\"Term 2: \", term_2)\n",
    "# print(\"Term 3: \", term_3)\n",
    "# print(\"H: \", h)\n",
    "# print(\"T: \", t)\n",
    "\n",
    "h = (term_1 * term_2 - term_3) // t\n",
    "# print(\"Is it balanced? \", term_1 * term_2 == term_3 + h * t)"
   ]
  },
  {
   "cell_type": "code",
   "execution_count": 6,
   "metadata": {},
   "outputs": [],
   "source": [
    "from py_ecc.bn128 import G1, G2, add, multiply, pairing, neg, eq\n",
    "\n",
    "import random\n",
    "tau = random.randint(1, curve_order - 1)\n",
    "# print(\"Tau: \", tau)\n",
    "\n",
    "# Number of rows is 4 so it will be degree 3\n",
    "SRS1G1 = [multiply(G1, tau**3), multiply(G1, tau**2), multiply(G1, tau), G1]\n",
    "SRS1G2 = [multiply(G2, tau**3), multiply(G2, tau**2), multiply(G2, tau), G2]\n",
    "SRS2G1 = [multiply(G1, int(tau**2*t(tau))), multiply(G1, int(tau*t(tau))), multiply(G1, int(t(tau)))]\n",
    "\n",
    "# print(\"SRS1G1: \", SRS1G1)\n",
    "# print(\"SRS1G2: \", SRS1G2)\n",
    "# print(\"SRS2G1: \", SRS2G1)\n",
    "\n",
    "term_1_coeffs = [0] * (4 - term_1.degree - 1) + list(term_1.coeffs)\n",
    "term_2_coeffs = [0] * (4 - term_2.degree - 1) + list(term_2.coeffs)\n",
    "term_3_coeffs = [0] * (4 - term_3.degree - 1) + list(term_3.coeffs)\n",
    "h_coeffs = [0] * (3 - h.degree - 1) + list(h.coeffs)\n",
    "\n",
    "# print(\"term_1_coeffs:\", term_1_coeffs)\n",
    "# print(\"term_2_coeffs:\", term_2_coeffs)\n",
    "# print(\"term_3_coeffs:\", term_3_coeffs)\n",
    "# print(\"h_coeffs:\", h_coeffs)"
   ]
  },
  {
   "cell_type": "code",
   "execution_count": 7,
   "metadata": {},
   "outputs": [
    {
     "name": "stdout",
     "output_type": "stream",
     "text": [
      "Pairing verification result: True\n"
     ]
    }
   ],
   "source": [
    "# Calculate L_G1 (term_1)\n",
    "A = None\n",
    "for i in range(4):\n",
    "    G1_point = multiply(SRS1G1[i], int(term_1_coeffs[i]))\n",
    "    if A is None:\n",
    "        A = G1_point\n",
    "    else:\n",
    "        A = add(A, G1_point)\n",
    "\n",
    "# Calculate R_G2 (term_2)\n",
    "B = None\n",
    "for i in range(4):\n",
    "    G2_point = multiply(SRS1G2[i], int(term_2_coeffs[i]))\n",
    "    if B is None:\n",
    "        B = G2_point\n",
    "    else:\n",
    "        B = add(B, G2_point)\n",
    "\n",
    "# Calculate O_G1 (term_3)\n",
    "O_G1 = None\n",
    "for i in range(4):\n",
    "    G1_point = multiply(SRS1G1[i], int(term_3_coeffs[i]))\n",
    "    if O_G1 is None:\n",
    "        O_G1 = G1_point\n",
    "    else:\n",
    "        O_G1 = add(O_G1, G1_point)\n",
    "\n",
    "# Calculate H_G1 using SRS2G1\n",
    "H_G1 = None\n",
    "for i in range(3):\n",
    "    G1_point = multiply(SRS2G1[i], int(h_coeffs[i]))\n",
    "    if H_G1 is None:\n",
    "        H_G1 = G1_point\n",
    "    else:\n",
    "        H_G1 = add(H_G1, G1_point)\n",
    "\n",
    "# Calculate C = O_G1 + H_G1\n",
    "C = add(O_G1, H_G1)\n",
    "\n",
    "# print(\"A: \", A)\n",
    "# print(\"B: \", B)\n",
    "# print(\"C: \", C)\n",
    "\n",
    "eAB = pairing(B, A)\n",
    "eCG2 = pairing(G2, C)\n",
    "\n",
    "# print(\"eAB: \", eAB)\n",
    "# print(\"eCG2: \", eCG2)\n",
    "\n",
    "# Verify the relation using pairings\n",
    "# e(A, B) = e(C, G2)\n",
    "result = eAB == eCG2\n",
    "print(\"Pairing verification result:\", result)"
   ]
  },
  {
   "cell_type": "markdown",
   "metadata": {},
   "source": [
    "### Complete Trusted Setup"
   ]
  },
  {
   "cell_type": "code",
   "execution_count": 8,
   "metadata": {},
   "outputs": [],
   "source": [
    "# Generate random values for the trusted setup\n",
    "alpha = random.randint(1, curve_order - 1)\n",
    "beta = random.randint(1, curve_order - 1)\n",
    "\n",
    "# print(f\"Trusted setup parameters (normally kept secret):\")\n",
    "# print(f\"tau = {tau}\")\n",
    "# print(f\"alpha = {alpha}\")\n",
    "# print(f\"beta = {beta}\")\n",
    "\n",
    "# Compute psi values\n",
    "psi = []\n",
    "for i in range(len(witness)):\n",
    "    u_i_at_tau = int(U_polys[i](tau))\n",
    "    v_i_at_tau = int(V_polys[i](tau))\n",
    "    w_i_at_tau = int(W_polys[i](tau))\n",
    "    \n",
    "    psi_value = (w_i_at_tau + alpha * v_i_at_tau + beta * u_i_at_tau) % curve_order\n",
    "    psi.append(multiply(G1, int(psi_value)))\n",
    "\n",
    "# print(\"Psi value:\", psi)"
   ]
  },
  {
   "cell_type": "code",
   "execution_count": 9,
   "metadata": {},
   "outputs": [
    {
     "name": "stdout",
     "output_type": "stream",
     "text": [
      "A:  (3623748540628731533287469443591030686243838852342428680817550239960778790283, 19874168650910557043580459566071292864769641512892974397631644340142113836566)\n",
      "B:  ((18757324239520708136581767404500635440769813539052370280912393673942320628684, 16264244504944106321790297735514507502656408693819376837572278655006716947108), (4449263999324915893942894022382500852229852392129143169976946923149662452796, 7183343093553676666670207637063161128489274195479452494428362109626801011560))\n",
      "C:  (6781820513385276233619697989327723575888013024447108259516446386645021361593, 3793177191666303912885373641309590466521045707135026150348552398232240073608)\n"
     ]
    }
   ],
   "source": [
    "A_original = A\n",
    "B_original = B\n",
    "\n",
    "alpha_G1 = multiply(G1, alpha)\n",
    "A = add(alpha_G1, A)\n",
    "\n",
    "beta_G2 = multiply(G2, beta)\n",
    "B = add(beta_G2, B)\n",
    "\n",
    "C = None\n",
    "for i in range(len(witness)):\n",
    "    if witness[i] != 0:\n",
    "        term = multiply(psi[i], int(witness[i]))\n",
    "        if C is None:\n",
    "            C = term\n",
    "        else:\n",
    "            C = add(C, term)\n",
    "\n",
    "C = add(C, H_G1)\n",
    "\n",
    "print(\"A: \", A)\n",
    "print(\"B: \", B)\n",
    "print(\"C: \", C)"
   ]
  },
  {
   "cell_type": "code",
   "execution_count": 10,
   "metadata": {},
   "outputs": [
    {
     "name": "stdout",
     "output_type": "stream",
     "text": [
      "Groth16 verification: True\n"
     ]
    }
   ],
   "source": [
    "from py_ecc.bn128.bn128_curve import FQ12 \n",
    "from py_ecc.bn128 import eq, neg, final_exponentiate\n",
    "\n",
    "result_groth16 = eq(FQ12.one(),\n",
    "   final_exponentiate(pairing(B, neg(A)) * pairing(beta_G2, alpha_G1) * pairing(G2, C)))\n",
    "\n",
    "print(f\"Groth16 verification: {result_groth16}\")"
   ]
  },
  {
   "cell_type": "markdown",
   "metadata": {},
   "source": [
    "### Add γ and δ to Trusted Setup"
   ]
  },
  {
   "cell_type": "code",
   "execution_count": 11,
   "metadata": {},
   "outputs": [
    {
     "name": "stdout",
     "output_type": "stream",
     "text": [
      "Trusted setup parameters (normally kept secret):\n",
      "tau = 14277529767012459229562231478562599096457580399158049538453796333173532439257\n",
      "alpha = 10272781246187345254272801447019002815561430849264702818045510457393049923084\n",
      "beta = 10358510159581754893434049212261816132203623072703583416461504371788732263220\n",
      "gamma = 3848709951053146648518175379007210740445609456197998893965841331363319949390\n",
      "delta = 12435658635838886079741701901168320232773901488439002212479363614054101283433\n",
      "Psi value: [None, (21808874659786183461376610409556390930255822057610130071635700110167644767832, 7380144402126394410990719927509078955658200030034342363020277193164171635327), (11612376812154477969538611170343851327711472515672828585816101515020792591920, 9120815970306982572097559080848134313449103379630603050329886753237300514133), (6484234573585343337198556851562565096851668877795699490701726260464764063350, 16544034472245882815662693254486984214553008327144434429229823209474615465318), (3603285195050666553933530790212437286423700992841957254137151158199456282825, 9215504838641801260615060059192286353603895813971374232451808796807324038763), (7232636517814038813012958594270362614618619765831008919442387811158397776252, 1191652990284587659571090583530039454566668107468819374165707753942031668782), (19420700262972839734582754153864257659796915258832590831117340950170212272644, 15453445683281146806811942199910907440911305388357448332195887394122953074395)]\n",
      "SRS1G1:  [(21625496358514550551051470730475191190406793023329306289434858588658089269791, 7413173772455926753729116644108946453635627247665628311116149980948537237881), (7536594785838262609494571632699350721546708591704472829169075232158731424576, 2344204125487050657401486123285149216634057127748048473166317713111243850726), (13693338057599221098802684614876791523470889520068460535164624900145054987525, 21580468540280736343353690178499692674211259006650454945314113338278798945511), (1, 2)]\n",
      "SRS1G2:  [((13287765551706636792880322190185831522984797787250812805098300228400799966032, 2029714030728703085822075619077857734126920150971232337306390653964107622980), (11023709853828511037455082690542841626655459561688160674541636963885421044274, 13932276120202260011092953446394890604439534260136804497186740206944809261827)), ((10523984555364705941850646719194393582747346476912462117061297223717724155436, 19099696163258854603108068893967503093078041274662528606876094199851938607997), (10267641772751589845072237947853060764024770120631471395866753605743241767437, 5941185016411220637148816151499668855367340365629462305189904581074231788077)), ((8917034357973703135019776959269883389733273019968645193066106768859934786721, 6936086348985028550716398126092674889286544823809715332744102645145622023812), (16746821063654273177397497569977708875050248647339392163775363874845123570855, 17857728381678203834797125583864936450098443635312135732602028064466548462489)), ((10857046999023057135944570762232829481370756359578518086990519993285655852781, 11559732032986387107991004021392285783925812861821192530917403151452391805634), (8495653923123431417604973247489272438418190587263600148770280649306958101930, 4082367875863433681332203403145435568316851327593401208105741076214120093531))]\n",
      "SRS2G1:  [(138826790533904803865316006408441567617108816714149782768773467052057439377, 15873634954197366547581335293225378137383649407675772044170682312328612849427), (21456211697508813825189159069556596377661197065260721964710078309523288934561, 7153073525159455626301093738048301321550130593121878985778346853377023698427), (16589315323265321120871664767510964640726633309031737832740711985509410957701, 6492936526038270767637120705780353036859998153788779309542990103789317210042)]\n"
     ]
    }
   ],
   "source": [
    "# Missing in trusted setup: gamma and delta\n",
    "gamma = random.randint(1, curve_order - 1)\n",
    "delta = random.randint(1, curve_order - 1)\n",
    "\n",
    "print(f\"Trusted setup parameters (normally kept secret):\")\n",
    "print(f\"tau = {tau}\")\n",
    "print(f\"alpha = {alpha}\")\n",
    "print(f\"beta = {beta}\")\n",
    "print(f\"gamma = {gamma}\")\n",
    "print(f\"delta = {delta}\")\n",
    "\n",
    "# Public input\n",
    "l = 2\n",
    "\n",
    "psi = []\n",
    "for i in range(len(witness)):\n",
    "    u_i_at_tau = int(U_polys[i](tau))\n",
    "    v_i_at_tau = int(V_polys[i](tau))\n",
    "    w_i_at_tau = int(W_polys[i](tau))\n",
    "    \n",
    "    psi_value = (w_i_at_tau + alpha * v_i_at_tau + beta * u_i_at_tau) % curve_order\n",
    "\n",
    "    denominator = None\n",
    "    if i < l:\n",
    "        denominator = gamma\n",
    "    else:\n",
    "        denominator = delta\n",
    "\n",
    "    assert denominator != None, \"Denominator cannot be `None`\"\n",
    "        \n",
    "    inverse_denominator = pow(denominator, -1, curve_order)\n",
    "    psi.append(multiply(G1, int((psi_value * inverse_denominator) % curve_order)))\n",
    "\n",
    "print(\"Psi value:\", psi)\n",
    "\n",
    "inv_delta = pow(delta, -1, curve_order)\n",
    "SRS2G1_delta = [multiply(G1, int(tau**2*t(tau)*inv_delta)), multiply(G1, int(tau*t(tau)*inv_delta)), multiply(G1, int(t(tau)*inv_delta))]\n",
    "\n",
    "print(\"SRS1G1: \", SRS1G1)\n",
    "print(\"SRS1G2: \", SRS1G2)\n",
    "print(\"SRS2G1: \", SRS2G1_delta)"
   ]
  },
  {
   "cell_type": "code",
   "execution_count": 12,
   "metadata": {},
   "outputs": [
    {
     "name": "stdout",
     "output_type": "stream",
     "text": [
      "A:  (3623748540628731533287469443591030686243838852342428680817550239960778790283, 19874168650910557043580459566071292864769641512892974397631644340142113836566)\n",
      "B:  ((18757324239520708136581767404500635440769813539052370280912393673942320628684, 16264244504944106321790297735514507502656408693819376837572278655006716947108), (4449263999324915893942894022382500852229852392129143169976946923149662452796, 7183343093553676666670207637063161128489274195479452494428362109626801011560))\n",
      "C:  (11633130140171487057727548504299235523576952182511328756773729470166839847068, 18500835781368348526273986169988069345048428843081919305844350078755495267460)\n"
     ]
    }
   ],
   "source": [
    "A = add(alpha_G1, A_original)\n",
    "B = add(beta_G2, B_original)\n",
    "\n",
    "C = None\n",
    "for i in range(l, len(witness)):  # Start from l, not 0\n",
    "    if witness[i] != 0:\n",
    "        term = multiply(psi[i], int(witness[i]))\n",
    "        if C is None:\n",
    "            C = term\n",
    "        else:\n",
    "            C = add(C, term)\n",
    "\n",
    "H_G1 = None\n",
    "for i in range(3):\n",
    "    G1_point = multiply(SRS2G1_delta[i], int(h_coeffs[i]))\n",
    "    if H_G1 is None:\n",
    "        H_G1 = G1_point\n",
    "    else:\n",
    "        H_G1 = add(H_G1, G1_point)\n",
    "\n",
    "C = add(C, H_G1)\n",
    "\n",
    "print(\"A: \", A)\n",
    "print(\"B: \", B)\n",
    "print(\"C: \", C)"
   ]
  },
  {
   "cell_type": "markdown",
   "metadata": {},
   "source": [
    "### Verifier needs to compute X for public inputs\n",
    "```\n",
    "[X]1 = sum(ai*Ψi for i in range(1, ℓ+1))\n",
    "```\n",
    "\n",
    "### Modified verification equation\n",
    "```\n",
    "[A]1 ∙ [B]2 ?= [α]1 ∙ [β]2 + [X]1 ∙ [γ]2 + [C]1 ∙ [δ]2\n",
    "```"
   ]
  },
  {
   "cell_type": "code",
   "execution_count": 13,
   "metadata": {},
   "outputs": [
    {
     "name": "stdout",
     "output_type": "stream",
     "text": [
      "Groth16 verification: True\n"
     ]
    }
   ],
   "source": [
    "X = multiply(G1, 0)\n",
    "for i in range(l):\n",
    "    if witness[i] != 0:  # Only add non-zero terms\n",
    "        term = multiply(psi[i], int(witness[i]))\n",
    "        X = add(X, term)\n",
    "\n",
    "gamma_G2 = multiply(G2, gamma)\n",
    "delta_G2 = multiply(G2, delta)\n",
    "\n",
    "verification = final_exponentiate(\n",
    "    pairing(B, neg(A)) *\n",
    "    pairing(beta_G2, alpha_G1) *\n",
    "    pairing(gamma_G2, X) * \n",
    "    pairing(delta_G2, C)\n",
    ")\n",
    "\n",
    "result_groth16 = eq(FQ12.one(), verification)\n",
    "\n",
    "print(f\"Groth16 verification: {result_groth16}\")"
   ]
  },
  {
   "cell_type": "markdown",
   "metadata": {},
   "source": [
    "### Implement Randomization\n",
    "\n",
    "#### Missing in prover steps:\n",
    "```\n",
    "r = random.randint(1, curve_order - 1)\n",
    "s = random.randint(1, curve_order - 1)\n",
    "```\n",
    "\n",
    "#### Modified A, B, C calculations\n",
    "```\n",
    "[A]1 = [α]1 + sum(ai*ui(τ)) + r*[δ]1\n",
    "[B]2 = [β]2 + sum(ai*vi(τ)) + s*[δ]2\n",
    "[C]1 = sum(ai*[Ψi]1) + h(τ)t(τ) + [A]1*s + [B]1*r - rs*[δ]1\n",
    "```"
   ]
  },
  {
   "cell_type": "code",
   "execution_count": 14,
   "metadata": {},
   "outputs": [
    {
     "name": "stdout",
     "output_type": "stream",
     "text": [
      "Zero-Knowledge Randomization (r and s):\n",
      "r = 14715402357651101275430805495350098371101465238898504437874753864380695232798\n",
      "s = 9810369778940442665413920265710327369027796617452462786393468934085190531599\n",
      "A:  (14581234463055099536391505147458469671450309058917875212389346630524632107344, 12281785149916147784692604782969566076151713816228919379886111170284362732509)\n",
      "B:  ((1533039842950631868207473618356223489421777276418504132557326938181564100647, 7977771766825512297544091923285155578354014480317181378963198128206628239192), (2535990039572488667108772654057136970071804414572059535442657313609625558087, 4853582790638354540074902518298946436009283620630614158384600892730440948391))\n",
      "C:  (8002318613068272157671567111578856792031212361610914470353396927372384064881, 10455566691737237992608879915144617408736070716145169051081689870159444071139)\n"
     ]
    }
   ],
   "source": [
    "r = random.randint(1, curve_order - 1)\n",
    "s = random.randint(1, curve_order - 1)\n",
    "\n",
    "print(f\"Zero-Knowledge Randomization (r and s):\")\n",
    "print(f\"r = {r}\")\n",
    "print(f\"s = {s}\")\n",
    "\n",
    "r_delta_G1 = multiply(multiply(G1, delta), r)\n",
    "A = add(r_delta_G1, A) # Add to `A` from Part 1\n",
    "\n",
    "s_delta_G2 = multiply(multiply(G2, delta), s)\n",
    "B = add(s_delta_G2, B) # Add to `B` from Part 1\n",
    "\n",
    "B_original_G1 = None\n",
    "for i in range(4):\n",
    "    G1_point = multiply(SRS1G1[i], int(term_2_coeffs[i]))\n",
    "    if B_original_G1 is None:\n",
    "        B_original_G1 = G1_point\n",
    "    else:\n",
    "        B_original_G1 = add(B_original_G1, G1_point)\n",
    "\n",
    "beta_G1 = multiply(G1, beta)\n",
    "B_prime_G1 = add(beta_G1, B_original_G1)\n",
    "\n",
    "s_delta_G1 = multiply(multiply(G1, delta), s)\n",
    "B_prime_G1 = add(s_delta_G1, B_prime_G1)\n",
    "\n",
    "C = add(C, multiply(A, s)) # Add to `C` from Part 1\n",
    "C = add(C, multiply(B_prime_G1, r))\n",
    "\n",
    "delta_G1 = multiply(G1, delta)\n",
    "C = add(C, neg(multiply(delta_G1, (r * s) % curve_order)))\n",
    "\n",
    "print(\"A: \", A)\n",
    "print(\"B: \", B)\n",
    "print(\"C: \", C)"
   ]
  },
  {
   "cell_type": "code",
   "execution_count": 15,
   "metadata": {},
   "outputs": [
    {
     "name": "stdout",
     "output_type": "stream",
     "text": [
      "Groth16 verification: True\n"
     ]
    }
   ],
   "source": [
    "verification = final_exponentiate(\n",
    "    pairing(B, neg(A)) *\n",
    "    pairing(beta_G2, alpha_G1) *\n",
    "    pairing(gamma_G2, X) * \n",
    "    pairing(delta_G2, C)\n",
    ")\n",
    "\n",
    "result_groth16 = eq(FQ12.one(), verification)\n",
    "\n",
    "print(f\"Groth16 verification: {result_groth16}\")"
   ]
  }
 ],
 "metadata": {
  "kernelspec": {
   "display_name": "Python 3 (ipykernel)",
   "language": "python",
   "name": "python3"
  },
  "language_info": {
   "codemirror_mode": {
    "name": "ipython",
    "version": 3
   },
   "file_extension": ".py",
   "mimetype": "text/x-python",
   "name": "python",
   "nbconvert_exporter": "python",
   "pygments_lexer": "ipython3",
   "version": "3.11.11"
  }
 },
 "nbformat": 4,
 "nbformat_minor": 4
}
